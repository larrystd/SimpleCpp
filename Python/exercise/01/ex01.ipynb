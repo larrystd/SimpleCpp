{
 "cells": [
  {
   "cell_type": "markdown",
   "source": [
    "# Coursework 1: Python basics"
   ],
   "metadata": {}
  },
  {
   "cell_type": "markdown",
   "source": [
    "This exercise is about the basics of python using **jupyter**. You need to fill in the empty code boxes below to produce the expected outputs.\n",
    "\n",
    "Once you are done, create a single `.zip` file, called `ex01.zip` that contains your completed notebook (*ex01.ipynb*) and an image with your solution for question 8. Then, you can submit it on Moodle before the *submission deadline*. \n",
    "\n",
    "Optionally, if you finish and submit before the *deadline*, you can demo your code to one of the demonstrators in the lab and they will give you feedback. \n",
    "\n",
    "Important notes: \n",
    "- Use only the operations that have been introduced in the lectures.\n",
    "- Check Moodle for the deadlines.\n",
    "- Doing or not doing the demo does not affect your mark.\n",
    "- We will not give you the marks immediately during the demo.\n",
    "- Make sure you note down the name of the demonstrator if you do the demo. *You cannot resubmit your solution after demoing it to us*.\n",
    "- You may be (randomly) selected to demo your solution the week after the deadline. Lab demonstrators will contact you to ensure you attend the lab session. Being unable to explain your solution may affect your mark. \n",
    "\n",
    "*The notebook still contains the outputs from Isaac. When you run your code they will be replaced with your outputs.*"
   ],
   "metadata": {}
  },
  {
   "cell_type": "markdown",
   "source": [
    "1. Assign your own name (as a string) to a variable `name`."
   ],
   "metadata": {}
  },
  {
   "cell_type": "code",
   "execution_count": 105,
   "source": [
    "name = \"alylf7\""
   ],
   "outputs": [],
   "metadata": {}
  },
  {
   "cell_type": "markdown",
   "source": [
    "To test, you should see your name if you run the next line: "
   ],
   "metadata": {}
  },
  {
   "cell_type": "code",
   "execution_count": 106,
   "source": [
    "name"
   ],
   "outputs": [
    {
     "output_type": "execute_result",
     "data": {
      "text/plain": [
       "'alylf7'"
      ]
     },
     "metadata": {},
     "execution_count": 106
    }
   ],
   "metadata": {}
  },
  {
   "cell_type": "markdown",
   "source": [
    "2. Using coercion and `name`, store your name as a list of strings in the variable `lst`."
   ],
   "metadata": {}
  },
  {
   "cell_type": "code",
   "execution_count": 107,
   "source": [
    "lst = list(name)"
   ],
   "outputs": [],
   "metadata": {}
  },
  {
   "cell_type": "markdown",
   "source": [
    "Test it by recalling the value of `lst`:"
   ],
   "metadata": {}
  },
  {
   "cell_type": "code",
   "execution_count": 108,
   "source": [
    "lst"
   ],
   "outputs": [
    {
     "output_type": "execute_result",
     "data": {
      "text/plain": [
       "['a', 'l', 'y', 'l', 'f', '7']"
      ]
     },
     "metadata": {},
     "execution_count": 108
    }
   ],
   "metadata": {}
  },
  {
   "cell_type": "markdown",
   "source": [
    "3. Define a function `swap01` with one argument (a string) that returns the string with the first and second characters swapped."
   ],
   "metadata": {}
  },
  {
   "cell_type": "code",
   "execution_count": 109,
   "source": [
    "def swap01(s:str):\n",
    "    res = s[1]+s[0]+s[2:]\n",
    "    return res"
   ],
   "outputs": [],
   "metadata": {}
  },
  {
   "cell_type": "markdown",
   "source": [
    "Test it on `name`."
   ],
   "metadata": {}
  },
  {
   "cell_type": "code",
   "execution_count": 110,
   "source": [
    "swap01(name)"
   ],
   "outputs": [
    {
     "output_type": "execute_result",
     "data": {
      "text/plain": [
       "'laylf7'"
      ]
     },
     "metadata": {},
     "execution_count": 110
    }
   ],
   "metadata": {}
  },
  {
   "cell_type": "markdown",
   "source": [
    "4. Define a function `swap01L` with one argument (a list) that returns the list with the first and second item swapped. The function should not modify its input."
   ],
   "metadata": {}
  },
  {
   "cell_type": "code",
   "execution_count": 111,
   "source": [
    "def swap01L(l:list):\n",
    "    res = l.copy()\n",
    "    res[0] = l[1]\n",
    "    res[1] = l[0]\n",
    "    return res"
   ],
   "outputs": [],
   "metadata": {}
  },
  {
   "cell_type": "markdown",
   "source": [
    "Test it on `lst`:"
   ],
   "metadata": {}
  },
  {
   "cell_type": "code",
   "execution_count": 112,
   "source": [
    "swap01L(lst)"
   ],
   "outputs": [
    {
     "output_type": "execute_result",
     "data": {
      "text/plain": [
       "['l', 'a', 'y', 'l', 'f', '7']"
      ]
     },
     "metadata": {},
     "execution_count": 112
    }
   ],
   "metadata": {}
  },
  {
   "cell_type": "markdown",
   "source": [
    "Check that your list `lst` has not changed:"
   ],
   "metadata": {}
  },
  {
   "cell_type": "code",
   "execution_count": 113,
   "source": [
    "lst"
   ],
   "outputs": [
    {
     "output_type": "execute_result",
     "data": {
      "text/plain": [
       "['a', 'l', 'y', 'l', 'f', '7']"
      ]
     },
     "metadata": {},
     "execution_count": 113
    }
   ],
   "metadata": {}
  },
  {
   "cell_type": "markdown",
   "source": [
    "5. Does your function `swap01` work for both lists and strings? If not, how can you fix it?"
   ],
   "metadata": {}
  },
  {
   "cell_type": "code",
   "execution_count": 114,
   "source": [
    "swap01(lst)\n",
    "\n",
    "# no, swap01 only work on strings, not lists\n",
    "# We can use the if condition to judge, choose different operation methods according to list and strings"
   ],
   "outputs": [
    {
     "output_type": "error",
     "ename": "TypeError",
     "evalue": "can only concatenate str (not \"list\") to str",
     "traceback": [
      "\u001b[0;31m---------------------------------------------------------------------------\u001b[0m",
      "\u001b[0;31mTypeError\u001b[0m                                 Traceback (most recent call last)",
      "\u001b[0;32m<ipython-input-114-fefc0101a1e3>\u001b[0m in \u001b[0;36m<module>\u001b[0;34m()\u001b[0m\n\u001b[0;32m----> 1\u001b[0;31m \u001b[0mswap01\u001b[0m\u001b[0;34m(\u001b[0m\u001b[0mlst\u001b[0m\u001b[0;34m)\u001b[0m\u001b[0;34m\u001b[0m\u001b[0m\n\u001b[0m\u001b[1;32m      2\u001b[0m \u001b[0;34m\u001b[0m\u001b[0m\n\u001b[1;32m      3\u001b[0m \u001b[0;31m# no, swap01 only work on strings, not lists\u001b[0m\u001b[0;34m\u001b[0m\u001b[0;34m\u001b[0m\u001b[0m\n\u001b[1;32m      4\u001b[0m \u001b[0;31m# We can use the if condition to judge, choose different operation methods according to list and strings\u001b[0m\u001b[0;34m\u001b[0m\u001b[0;34m\u001b[0m\u001b[0m\n",
      "\u001b[0;32m<ipython-input-109-6ae92e85598d>\u001b[0m in \u001b[0;36mswap01\u001b[0;34m(s)\u001b[0m\n\u001b[1;32m      1\u001b[0m \u001b[0;32mdef\u001b[0m \u001b[0mswap01\u001b[0m\u001b[0;34m(\u001b[0m\u001b[0ms\u001b[0m\u001b[0;34m:\u001b[0m\u001b[0mstr\u001b[0m\u001b[0;34m)\u001b[0m\u001b[0;34m:\u001b[0m\u001b[0;34m\u001b[0m\u001b[0m\n\u001b[0;32m----> 2\u001b[0;31m     \u001b[0mres\u001b[0m \u001b[0;34m=\u001b[0m \u001b[0ms\u001b[0m\u001b[0;34m[\u001b[0m\u001b[0;36m1\u001b[0m\u001b[0;34m]\u001b[0m\u001b[0;34m+\u001b[0m\u001b[0ms\u001b[0m\u001b[0;34m[\u001b[0m\u001b[0;36m0\u001b[0m\u001b[0;34m]\u001b[0m\u001b[0;34m+\u001b[0m\u001b[0ms\u001b[0m\u001b[0;34m[\u001b[0m\u001b[0;36m2\u001b[0m\u001b[0;34m:\u001b[0m\u001b[0;34m]\u001b[0m\u001b[0;34m\u001b[0m\u001b[0m\n\u001b[0m\u001b[1;32m      3\u001b[0m     \u001b[0;32mreturn\u001b[0m \u001b[0mres\u001b[0m\u001b[0;34m\u001b[0m\u001b[0m\n",
      "\u001b[0;31mTypeError\u001b[0m: can only concatenate str (not \"list\") to str"
     ]
    }
   ],
   "metadata": {}
  },
  {
   "cell_type": "markdown",
   "source": [
    "6. Implement a function `xswap01` that takes a list as a parameter and modifies it by swapping the first and second items. And the function **does not return** anything."
   ],
   "metadata": {}
  },
  {
   "cell_type": "code",
   "execution_count": 115,
   "source": [
    "def xswap01(l:list):\n",
    "    temp = l[0]\n",
    "    l[0] = l[1]\n",
    "    l[1] = temp"
   ],
   "outputs": [],
   "metadata": {}
  },
  {
   "cell_type": "markdown",
   "source": [
    "Check the content of `lst`:"
   ],
   "metadata": {}
  },
  {
   "cell_type": "code",
   "execution_count": 116,
   "source": [
    "lst"
   ],
   "outputs": [
    {
     "output_type": "execute_result",
     "data": {
      "text/plain": [
       "['a', 'l', 'y', 'l', 'f', '7']"
      ]
     },
     "metadata": {},
     "execution_count": 116
    }
   ],
   "metadata": {}
  },
  {
   "cell_type": "markdown",
   "source": [
    "Run the function on `lst`; There should be no output."
   ],
   "metadata": {}
  },
  {
   "cell_type": "code",
   "execution_count": 117,
   "source": [
    "xswap01(lst)"
   ],
   "outputs": [],
   "metadata": {}
  },
  {
   "cell_type": "markdown",
   "source": [
    "See the value of `lst`:"
   ],
   "metadata": {}
  },
  {
   "cell_type": "code",
   "execution_count": 118,
   "source": [
    "lst"
   ],
   "outputs": [
    {
     "output_type": "execute_result",
     "data": {
      "text/plain": [
       "['l', 'a', 'y', 'l', 'f', '7']"
      ]
     },
     "metadata": {},
     "execution_count": 118
    }
   ],
   "metadata": {}
  },
  {
   "cell_type": "markdown",
   "source": [
    "7a. If we use `swap01` twice we get the original list. Show that this is correct by using `swap01` twice on `name`."
   ],
   "metadata": {}
  },
  {
   "cell_type": "code",
   "execution_count": 119,
   "source": [
    "swap01(swap01(name))"
   ],
   "outputs": [
    {
     "output_type": "execute_result",
     "data": {
      "text/plain": [
       "'alylf7'"
      ]
     },
     "metadata": {},
     "execution_count": 119
    }
   ],
   "metadata": {}
  },
  {
   "cell_type": "markdown",
   "source": [
    "7b. Let's do the same for `xswap01`. First we reset `lst`:"
   ],
   "metadata": {}
  },
  {
   "cell_type": "code",
   "execution_count": 120,
   "source": [
    "lst = list(name)\n",
    "lst"
   ],
   "outputs": [
    {
     "output_type": "execute_result",
     "data": {
      "text/plain": [
       "['a', 'l', 'y', 'l', 'f', '7']"
      ]
     },
     "metadata": {},
     "execution_count": 120
    }
   ],
   "metadata": {}
  },
  {
   "cell_type": "markdown",
   "source": [
    "Now run `xswap01` twice on `lst`: "
   ],
   "metadata": {}
  },
  {
   "cell_type": "code",
   "execution_count": 121,
   "source": [
    "xswap01(lst)\n",
    "xswap01(lst)"
   ],
   "outputs": [],
   "metadata": {}
  },
  {
   "cell_type": "markdown",
   "source": [
    "Now check that `lst` is set back to its original value."
   ],
   "metadata": {}
  },
  {
   "cell_type": "code",
   "execution_count": 72,
   "source": [
    "lst"
   ],
   "outputs": [
    {
     "output_type": "execute_result",
     "data": {
      "text/plain": [
       "['a', 'l', 'y', 'l', 'f', '7']"
      ]
     },
     "metadata": {},
     "execution_count": 72
    }
   ],
   "metadata": {}
  },
  {
   "cell_type": "markdown",
   "source": [
    "8. We can apply `xswap01` to a sublist. So for example:"
   ],
   "metadata": {}
  },
  {
   "cell_type": "code",
   "execution_count": 122,
   "source": [
    "rep = [[1,2,3],[1,2,3]]"
   ],
   "outputs": [],
   "metadata": {}
  },
  {
   "cell_type": "code",
   "execution_count": 123,
   "source": [
    "xswap01(rep[0])"
   ],
   "outputs": [],
   "metadata": {}
  },
  {
   "cell_type": "code",
   "execution_count": 124,
   "source": [
    "rep"
   ],
   "outputs": [
    {
     "output_type": "execute_result",
     "data": {
      "text/plain": [
       "[[2, 1, 3], [1, 2, 3]]"
      ]
     },
     "metadata": {},
     "execution_count": 124
    }
   ],
   "metadata": {}
  },
  {
   "cell_type": "markdown",
   "source": [
    "Let's restore `rep`: "
   ],
   "metadata": {}
  },
  {
   "cell_type": "code",
   "execution_count": 125,
   "source": [
    "rep[0] = rep[1]"
   ],
   "outputs": [],
   "metadata": {}
  },
  {
   "cell_type": "code",
   "execution_count": 126,
   "source": [
    "rep\n"
   ],
   "outputs": [
    {
     "output_type": "execute_result",
     "data": {
      "text/plain": [
       "[[1, 2, 3], [1, 2, 3]]"
      ]
     },
     "metadata": {},
     "execution_count": 126
    }
   ],
   "metadata": {}
  },
  {
   "cell_type": "code",
   "execution_count": 127,
   "source": [
    "xswap01(rep[0])"
   ],
   "outputs": [],
   "metadata": {}
  },
  {
   "cell_type": "code",
   "execution_count": 128,
   "source": [
    "rep"
   ],
   "outputs": [
    {
     "output_type": "execute_result",
     "data": {
      "text/plain": [
       "[[2, 1, 3], [2, 1, 3]]"
      ]
     },
     "metadata": {},
     "execution_count": 128
    }
   ],
   "metadata": {}
  },
  {
   "cell_type": "markdown",
   "source": [
    "This is strange! This time both sublists got changed. Can you explain this? Draw some diagrams explaining the difference between the two situations. \n",
    "\n",
    "*Use a markdown cell for text.*\n",
    "\n",
    "*You can just draw them by hand and take a picture with your phone. You can include a picture in the markdown (it needs to be a Text cell!) using `![](name.jpg)`.*"
   ],
   "metadata": {}
  },
  {
   "cell_type": "markdown",
   "source": [
    "*Answer*: \n",
    "\n",
    "First of all, we know that the role of xswap01 is to exchange the first and second elements of the list. Therefore, it is not difficult to know that when `xswap01(rep[0])` is executed, and `rep[0]`=`[1,2,3]`, after the execution is `[2,1,3]`, `rep[1]` is not modified, so it is still `[1 ,2,3]`. Therefore, the result of the first execution of `xswap01(rep[0])` is `[[2, 1, 3], [1, 2, 3]]`.\n",
    "\n",
    "First of all, we know that the role of `xswap01` is to exchange the first and second elements of the list. Therefore, it is not difficult to know that when `xswap01(rep[0])` is executed, and `rep[0]`'s reference change from `[1,2,3]` to `[2,1,3]` after the execution. `rep[1]` is not modified, so it still reference to `[1 ,2,3]`. Therefore, the result of the first execution of `xswap01(rep[0])` is `[[2, 1, 3], [1, 2, 3]]`. As shown below\n",
    "\n",
    "![img1](1.png)\n",
    "\n",
    "We need to analyze the principle behind `rep[0] = rep[1]`. In python, list assignment is passed by reference. It can be understood that `rep[0]` and `rep[1]` are like C language pointers, and the value is the address of the storage element. Therefore, `rep[0]` = `rep[1]` causes both `rep[0]` and `rep[1]` to point to the referenced element memory of `rep[1]`, which is `[1,2,3]`. So next we output rep as `[[1, 2, 3], [1, 2, 3]]`, as shown below\n",
    "\n",
    "![img2](2.png)\n",
    "\n",
    "At this time, when calling `xswap01(rep[0])`, it exchange the referenced elements of `rep[1]`, as `rep[0]` also points to the elements of `rep[1]`, so `rep[0]` and `rep[1]` are both changed reference to `[ 2, 1, 3]` from `[1,2,3]`. The output rep is `[[2, 1, 3], [2, 1, 3]]`, as shown below\n",
    "\n",
    "![img3](3.png)\n",
    "\n",
    "We tested our ideas in exercise01.py and found that after executing rep[0]=rep[1], the memory addresses of rep[0] and rep[1] are the same, which means they point to the same memory. This proves our idea is correct as below.\n",
    "\n",
    "![img4](4.png)"
   ],
   "metadata": {}
  }
 ],
 "metadata": {
  "kernelspec": {
   "name": "python3",
   "display_name": "Python 3.7.0 64-bit ('base': conda)"
  },
  "language_info": {
   "codemirror_mode": {
    "name": "ipython",
    "version": 3
   },
   "file_extension": ".py",
   "mimetype": "text/x-python",
   "name": "python",
   "nbconvert_exporter": "python",
   "pygments_lexer": "ipython3",
   "version": "3.7.0"
  },
  "interpreter": {
   "hash": "d2b6e91fa0bea2957adca3e3913b5beeadb9728ce262f91eda09f6731ff97d7d"
  }
 },
 "nbformat": 4,
 "nbformat_minor": 2
}